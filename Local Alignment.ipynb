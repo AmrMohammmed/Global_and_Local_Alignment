{
 "cells": [
  {
   "cell_type": "code",
   "execution_count": 114,
   "id": "15bab78a",
   "metadata": {},
   "outputs": [
    {
     "name": "stdout",
     "output_type": "stream",
     "text": [
      "CGCTCGCT CACTCGT\n",
      "[[ 0  0 67 65 67 84 67 71 84]\n",
      " [ 0  0  0  0  0  0  0  0  0]\n",
      " [67  0  0  0  0  0  0  0  0]\n",
      " [71  0  0  0  0  0  0  0  0]\n",
      " [67  0  0  0  0  0  0  0  0]\n",
      " [84  0  0  0  0  0  0  0  0]\n",
      " [67  0  0  0  0  0  0  0  0]\n",
      " [71  0  0  0  0  0  0  0  0]\n",
      " [67  0  0  0  0  0  0  0  0]\n",
      " [84  0  0  0  0  0  0  0  0]]\n",
      "10 9\n"
     ]
    }
   ],
   "source": [
    "import numpy as np\n",
    "\n",
    "#s1='CG'\n",
    "#s2='CA'\n",
    "\n",
    "#s1='AATCG'\n",
    "#s2='AACG'\n",
    "\n",
    "#s1='AGGGCT'\n",
    "#s2='AGGCA'\n",
    "\n",
    "s1='CGCTCGCT'\n",
    "s2='CACTCGT'\n",
    "\n",
    "#s1='CGCT'\n",
    "#s2='TCGC'\n",
    "\n",
    "print(s1,s2)\n",
    "\n",
    "match=5\n",
    "mismatch=-5\n",
    "gap=-8\n",
    "\n",
    "matrix = np.zeros((len(s1)+2, len(s2)+2),dtype=int )\n",
    "\n",
    "rowN,columN=matrix.shape\n",
    "\n",
    "for i in range(2,rowN):  \n",
    "    matrix[i][0]=ord(s1[i-2])\n",
    "    \n",
    "for i in range(2,columN): \n",
    "    matrix[0][i]=ord(s2[i-2])\n",
    "    \n",
    "print(matrix)\n",
    "print(rowN,columN)\n"
   ]
  },
  {
   "cell_type": "code",
   "execution_count": 115,
   "id": "24ed6138",
   "metadata": {},
   "outputs": [
    {
     "name": "stdout",
     "output_type": "stream",
     "text": [
      "[[ 0  0 67 65 67 84 67 71 84]\n",
      " [ 0  0  0  0  0  0  0  0  0]\n",
      " [67  0  5  0  5  0  5  0  0]\n",
      " [71  0  0  0  0  0  0 10  2]\n",
      " [67  0  5  0  5  0  5  2  5]\n",
      " [84  0  0  0  0 10  2  0  7]\n",
      " [67  0  5  0  5  2 15  7  0]\n",
      " [71  0  0  0  0  0  7 20 12]\n",
      " [67  0  5  0  5  0  5 12 15]\n",
      " [84  0  0  0  0 10  2  4 17]]\n"
     ]
    }
   ],
   "source": [
    "for i in range(2,rowN):   \n",
    "    for j in range(2,columN):   \n",
    "        left=matrix[i][j-1]+gap\n",
    "        up=matrix[i-1][j]+gap\n",
    "        diag=matrix[i-1][j-1]\n",
    "        \n",
    "        if(matrix[i][0]==matrix[0][j]):\n",
    "            diag+=match\n",
    "        else :\n",
    "            diag+=mismatch\n",
    "            \n",
    "        Maxi= max([left,up,diag])  \n",
    "        if(Maxi >=0):\n",
    "            matrix[i][j]=Maxi\n",
    "        else:\n",
    "            matrix[i][j]=0\n",
    "print(matrix)\n"
   ]
  },
  {
   "cell_type": "code",
   "execution_count": 116,
   "id": "6fb05ea9",
   "metadata": {},
   "outputs": [
    {
     "data": {
      "text/plain": [
       "20"
      ]
     },
     "execution_count": 116,
     "metadata": {},
     "output_type": "execute_result"
    }
   ],
   "source": [
    "matrix_del=np.delete(matrix,0,0)\n",
    "matrix_del=np.delete(matrix_del,0,1)\n",
    "matrix_del\n",
    "\n",
    "maxStart=max(list(map(max, matrix_del)))\n",
    "maxStart\n"
   ]
  },
  {
   "cell_type": "code",
   "execution_count": 117,
   "id": "8324958d",
   "metadata": {},
   "outputs": [
    {
     "name": "stdout",
     "output_type": "stream",
     "text": [
      "7 7\n",
      "20\n"
     ]
    }
   ],
   "source": [
    "result = np.where( matrix == maxStart)\n",
    "\n",
    "i,j=result[0][0],result[1][0]\n",
    "score=matrix[i][j]\n",
    "print(i,j)\n",
    "print(score)"
   ]
  },
  {
   "cell_type": "code",
   "execution_count": 118,
   "id": "ba65832b",
   "metadata": {},
   "outputs": [
    {
     "name": "stdout",
     "output_type": "stream",
     "text": [
      "[1] Score = 20\n",
      "\n",
      "[2] Alignment :\n",
      "\n",
      "        CTCG\n",
      "        ****\n",
      "        CTCG\n",
      "\n",
      "[3] Path :  [20, 15, 10, 5, 0] \n",
      "\n",
      "\n",
      "[4] MAtrix :\n",
      "\n",
      "[[ 0  0  0  0  0  0  0  0]\n",
      " [ 0  5  0  5  0  5  0  0]\n",
      " [ 0  0  0  0  0  0 10  2]\n",
      " [ 0  5  0  5  0  5  2  5]\n",
      " [ 0  0  0  0 10  2  0  7]\n",
      " [ 0  5  0  5  2 15  7  0]\n",
      " [ 0  0  0  0  0  7 20 12]\n",
      " [ 0  5  0  5  0  5 12 15]\n",
      " [ 0  0  0  0 10  2  4 17]]\n"
     ]
    }
   ],
   "source": [
    "align1=''\n",
    "align2=''\n",
    "matMis=''\n",
    "path=[]\n",
    "\n",
    "while matrix [i][j] != 0 :\n",
    "    \n",
    "    current=matrix[i][j]\n",
    "    path.append(current)\n",
    "    \n",
    "    if(matrix[i][0]==matrix[0][j]):\n",
    "        align1+=chr(matrix[i][0])\n",
    "        align2+=chr(matrix[0][j])\n",
    "        matMis+='*'\n",
    "        i,j=i-1,j-1        \n",
    "    else :\n",
    "        left=matrix[i][j-1] \n",
    "        up=matrix[i-1][j]\n",
    "        diag=matrix[i-1][j-1]\n",
    "        \n",
    "        maxi=max([left,up,diag])\n",
    "        \n",
    "        if(i==1):\n",
    "            maxi=left\n",
    "\n",
    "        if(maxi == left):\n",
    "            align1+='_'\n",
    "            align2+=chr(matrix[0][j])\n",
    "            matMis+=' '\n",
    "            j-=1\n",
    "\n",
    "        elif(maxi == up):\n",
    "            \n",
    "            align1+=chr(matrix[i][0])\n",
    "            align2+='_'\n",
    "            matMis+=' '\n",
    "            i-=1\n",
    "            \n",
    "        else:\n",
    "            align1+= chr(matrix[i][0])\n",
    "            align2+= chr(matrix[0][j])\n",
    "            matMis+='|'\n",
    "            i,j=i-1,j-1\n",
    "   \n",
    "\n",
    "path.append(0) \n",
    "\n",
    "print(\"[1] Score =\",score)\n",
    "print('\\n[2] Alignment :\\n')\n",
    "print(\"       \",align1[::-1])\n",
    "print(\"       \",matMis[::-1])\n",
    "print(\"       \",align2[::-1])\n",
    "print('\\n[3] Path : ',path,'\\n')\n",
    "print(\"\\n[4] MAtrix :\\n\")\n",
    "print(matrix_del)"
   ]
  },
  {
   "cell_type": "code",
   "execution_count": null,
   "id": "6f8f14e4",
   "metadata": {},
   "outputs": [],
   "source": []
  },
  {
   "cell_type": "code",
   "execution_count": null,
   "id": "033fac70",
   "metadata": {},
   "outputs": [],
   "source": []
  }
 ],
 "metadata": {
  "kernelspec": {
   "display_name": "Python 3 (ipykernel)",
   "language": "python",
   "name": "python3"
  },
  "language_info": {
   "codemirror_mode": {
    "name": "ipython",
    "version": 3
   },
   "file_extension": ".py",
   "mimetype": "text/x-python",
   "name": "python",
   "nbconvert_exporter": "python",
   "pygments_lexer": "ipython3",
   "version": "3.9.7"
  }
 },
 "nbformat": 4,
 "nbformat_minor": 5
}
