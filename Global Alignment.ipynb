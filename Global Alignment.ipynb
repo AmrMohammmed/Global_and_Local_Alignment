{
 "cells": [
  {
   "cell_type": "code",
   "execution_count": 13,
   "id": "3321811c",
   "metadata": {},
   "outputs": [
    {
     "name": "stdout",
     "output_type": "stream",
     "text": [
      "Pass\n"
     ]
    }
   ],
   "source": [
    "#To Confirm Accuracy Visit :\n",
    "#https://rna.informatik.uni-freiburg.de/Teaching/index.jsp?toolName=Needleman-Wunsch\n",
    "'''\n",
    "s1=input().upper()\n",
    "s2=input().upper()\n",
    "\n",
    "#s1='AATCG'\n",
    "#s2='AACG'\n",
    "\n",
    "#s1='CGCTCGCT'\n",
    "#s2='CACTCGT'\n",
    "\n",
    "#s1='CTTCA'\n",
    "#s2='CTACA'\n",
    "\n",
    "Rs=True\n",
    "\n",
    "for i in s1:\n",
    "    if i not in 'ACGTU':\n",
    "            Rs=False\n",
    "            break\n",
    "if(Rs):            \n",
    "    for i in s2:\n",
    "        if i not in 'ACGTU':\n",
    "                Rs=False\n",
    "                break   \n",
    "            \n",
    "if Rs ==False:\n",
    "    print('Enter DNA or RNA only!')\n",
    "else:\n",
    "    print('Pass')\n",
    "'''"
   ]
  },
  {
   "cell_type": "code",
   "execution_count": 1,
   "id": "0ae6edf1",
   "metadata": {},
   "outputs": [
    {
     "name": "stdout",
     "output_type": "stream",
     "text": [
      "CGCTCGCT CACTCGT\n",
      "[[  0   0  67  65  67  84  67  71  84]\n",
      " [  0   0  -2  -4  -6  -8 -10 -12 -14]\n",
      " [ 67  -2   0   0   0   0   0   0   0]\n",
      " [ 71  -4   0   0   0   0   0   0   0]\n",
      " [ 67  -6   0   0   0   0   0   0   0]\n",
      " [ 84  -8   0   0   0   0   0   0   0]\n",
      " [ 67 -10   0   0   0   0   0   0   0]\n",
      " [ 71 -12   0   0   0   0   0   0   0]\n",
      " [ 67 -14   0   0   0   0   0   0   0]\n",
      " [ 84 -16   0   0   0   0   0   0   0]]\n",
      "10 9\n"
     ]
    }
   ],
   "source": [
    "import numpy as np\n",
    "\n",
    "#s1='CG'\n",
    "#s2='CA'\n",
    "\n",
    "#s1='AATCG'\n",
    "#s2='AACG'\n",
    "\n",
    "\n",
    "#s1='AGGGCT'\n",
    "#s2='AGGCA'\n",
    "\n",
    "s1='CGCTCGCT'\n",
    "s2='CACTCGT'\n",
    "\n",
    "#s1='CGCT'\n",
    "#s2='TCGC'\n",
    "\n",
    "print(s1,s2)\n",
    "\n",
    "\n",
    "matrix = np.zeros((len(s1)+2, len(s2)+2),dtype=int )\n",
    "\n",
    "rowN,columN=matrix.shape\n",
    "\n",
    "for i in range(2,rowN):  \n",
    "    matrix[i][0]=ord(s1[i-2])\n",
    "    matrix[i][1]=matrix[i-1][1]-2\n",
    "    \n",
    "for i in range(2,columN): \n",
    "    matrix[0][i]=ord(s2[i-2])\n",
    "    matrix[1][i]=matrix[1][i-1]-2    \n",
    "    \n",
    "print(matrix)\n",
    "print(rowN,columN)\n"
   ]
  },
  {
   "cell_type": "code",
   "execution_count": 2,
   "id": "9d0bbe3f",
   "metadata": {},
   "outputs": [
    {
     "data": {
      "text/plain": [
       "'\\nNote that: \\n#length of first_row = number of columns  \\n#length of first_column = number of rows\\n'"
      ]
     },
     "execution_count": 2,
     "metadata": {},
     "output_type": "execute_result"
    }
   ],
   "source": [
    "'''\n",
    "Note that: \n",
    "#length of first_row = number of columns  \n",
    "#length of first_column = number of rows\n",
    "'''\n",
    "#first_row=matrix[0]\n",
    "#first_column=matrix[:,0]\n",
    "\n",
    "\n",
    "#print(first_row)\n",
    "#print(len(first_row))\n",
    "\n",
    "#print(first_column)\n",
    "#print(len(first_column))\n",
    "\n",
    "#print('number of rows =',rowN)\n",
    "#print('number of columns =',columN)\n",
    "\n"
   ]
  },
  {
   "cell_type": "code",
   "execution_count": 3,
   "id": "e5193982",
   "metadata": {
    "scrolled": true
   },
   "outputs": [
    {
     "name": "stdout",
     "output_type": "stream",
     "text": [
      "[[  0   0  67  65  67  84  67  71  84]\n",
      " [  0   0  -2  -4  -6  -8 -10 -12 -14]\n",
      " [ 67  -2   1  -1  -3  -5  -7  -9 -11]\n",
      " [ 71  -4  -1   0  -2  -4  -6  -6  -8]\n",
      " [ 67  -6  -3  -2   1  -1  -3  -5  -7]\n",
      " [ 84  -8  -5  -4  -1   2   0  -2  -4]\n",
      " [ 67 -10  -7  -6  -3   0   3   1  -1]\n",
      " [ 71 -12  -9  -8  -5  -2   1   4   2]\n",
      " [ 67 -14 -11 -10  -7  -4  -1   2   3]\n",
      " [ 84 -16 -13 -12  -9  -6  -3   0   3]]\n"
     ]
    }
   ],
   "source": [
    "for i in range(2,rowN):   \n",
    "    for j in range(2,columN):   \n",
    "        left=matrix[i][j-1]-2\n",
    "        up=matrix[i-1][j]-2\n",
    "        diag=matrix[i-1][j-1]\n",
    "        \n",
    "        if(matrix[i][0]==matrix[0][j]):\n",
    "            diag+=1\n",
    "        else :\n",
    "            diag-=1\n",
    "        matrix[i][j]=max([left,up,diag])\n",
    "        \n",
    "print(matrix)\n"
   ]
  },
  {
   "cell_type": "code",
   "execution_count": 4,
   "id": "df6255a9",
   "metadata": {},
   "outputs": [
    {
     "name": "stdout",
     "output_type": "stream",
     "text": [
      "[1] Score = 3\n",
      "\n",
      "[2] Alignment :\n",
      "\n",
      "        CGCTCGCT\n",
      "        *|**** *\n",
      "        CACTCG_T\n",
      "\n",
      "[3] Path :  [3, 2, 4, 3, 2, 1, 0, 1, 0] \n",
      "\n",
      "\n",
      "[4] MAtrix :\n",
      "\n",
      "[[  0   0  67  65  67  84  67  71  84]\n",
      " [  0   0  -2  -4  -6  -8 -10 -12 -14]\n",
      " [ 67  -2   1  -1  -3  -5  -7  -9 -11]\n",
      " [ 71  -4  -1   0  -2  -4  -6  -6  -8]\n",
      " [ 67  -6  -3  -2   1  -1  -3  -5  -7]\n",
      " [ 84  -8  -5  -4  -1   2   0  -2  -4]\n",
      " [ 67 -10  -7  -6  -3   0   3   1  -1]\n",
      " [ 71 -12  -9  -8  -5  -2   1   4   2]\n",
      " [ 67 -14 -11 -10  -7  -4  -1   2   3]\n",
      " [ 84 -16 -13 -12  -9  -6  -3   0   3]]\n"
     ]
    }
   ],
   "source": [
    "i,j=rowN-1,columN-1\n",
    "score=matrix[i][j]\n",
    "\n",
    "align1=''\n",
    "align2=''\n",
    "matMis=''\n",
    "path=[]\n",
    "\n",
    "while i>=1 and j>=1:\n",
    "    \n",
    "    current=matrix[i][j]\n",
    "    path.append(current)\n",
    "    \n",
    "    if(i==1 and j==1):\n",
    "        break  \n",
    "\n",
    "    if(matrix[i][0]==matrix[0][j]):\n",
    "        align1+=chr(matrix[i][0])\n",
    "        align2+=chr(matrix[0][j])\n",
    "        matMis+='*'\n",
    "        i,j=i-1,j-1\n",
    "\n",
    "    else :\n",
    "        left=matrix[i][j-1] \n",
    "        up=matrix[i-1][j]\n",
    "        diag=matrix[i-1][j-1]\n",
    "        \n",
    "        maxi=max([left,up,diag])\n",
    "        \n",
    "        if(i==1):\n",
    "            maxi=left\n",
    "\n",
    "        if(maxi == left):\n",
    "            align1+='_'\n",
    "            align2+=chr(matrix[0][j])\n",
    "            matMis+=' '\n",
    "            j-=1\n",
    "\n",
    "        elif(maxi == up):\n",
    "            \n",
    "            align1+=chr(matrix[i][0])\n",
    "            align2+='_'\n",
    "            matMis+=' '\n",
    "            i-=1\n",
    "            \n",
    "        else:\n",
    "            align1+= chr(matrix[i][0])\n",
    "            align2+= chr(matrix[0][j])\n",
    "            matMis+='|'\n",
    "            i,j=i-1,j-1\n",
    "\n",
    "    \n",
    "print(\"[1] Score =\",score)\n",
    "print('\\n[2] Alignment :\\n')\n",
    "print(\"       \",align1[::-1])\n",
    "print(\"       \",matMis[::-1])\n",
    "print(\"       \",align2[::-1])\n",
    "print('\\n[3] Path : ',path,'\\n')\n",
    "print(\"\\n[4] MAtrix :\\n\")\n",
    "print(matrix)"
   ]
  }
 ],
 "metadata": {
  "kernelspec": {
   "display_name": "Python 3 (ipykernel)",
   "language": "python",
   "name": "python3"
  },
  "language_info": {
   "codemirror_mode": {
    "name": "ipython",
    "version": 3
   },
   "file_extension": ".py",
   "mimetype": "text/x-python",
   "name": "python",
   "nbconvert_exporter": "python",
   "pygments_lexer": "ipython3",
   "version": "3.9.7"
  }
 },
 "nbformat": 4,
 "nbformat_minor": 5
}
